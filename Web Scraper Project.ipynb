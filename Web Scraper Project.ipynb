{
 "cells": [
  {
   "cell_type": "code",
   "execution_count": 14,
   "id": "f236cbb9",
   "metadata": {},
   "outputs": [],
   "source": [
    "from bs4 import BeautifulSoup\n",
    "import requests\n",
    "import time\n",
    "import datetime"
   ]
  },
  {
   "cell_type": "code",
   "execution_count": 15,
   "id": "9b531b61",
   "metadata": {},
   "outputs": [
    {
     "name": "stdout",
     "output_type": "stream",
     "text": [
      "📚 Title: A Light in the Attic\n",
      "💰 Price: £51.77\n"
     ]
    }
   ],
   "source": [
    "\n",
    "URL = 'https://books.toscrape.com/catalogue/a-light-in-the-attic_1000/index.html'\n",
    "\n",
    "headers = {\n",
    "    \"User-Agent\": \"Mozilla/5.0 (Windows NT 10.0; Win64; x64) AppleWebKit/537.36 (KHTML, like Gecko) Chrome/121.0.0.0 Safari/537.36\",\n",
    "    \"Accept-Language\": \"en-US,en;q=0.9\"\n",
    "}\n",
    "\n",
    "page = requests.get(URL, headers=headers)\n",
    "\n",
    "soup = BeautifulSoup(page.content, \"html.parser\")\n",
    "\n",
    "title = soup.find(\"div\", class_=\"product_main\").h1.get_text()\n",
    "\n",
    "price = soup.find(\"p\", class_=\"price_color\").get_text()\n",
    "\n",
    "print(\"📚 Title:\", title)\n",
    "print(\"💰 Price:\", price)\n"
   ]
  },
  {
   "cell_type": "code",
   "execution_count": 16,
   "id": "b6f7d66e",
   "metadata": {},
   "outputs": [
    {
     "name": "stdout",
     "output_type": "stream",
     "text": [
      "A Light in the Attic\n",
      "£51.77\n"
     ]
    }
   ],
   "source": [
    "# Clean up the data a little bit\n",
    "\n",
    "price = price.strip()\n",
    "title = title.strip()\n",
    "\n",
    "print(title)\n",
    "print(price)"
   ]
  },
  {
   "cell_type": "code",
   "execution_count": 17,
   "id": "4f021c23",
   "metadata": {},
   "outputs": [
    {
     "name": "stdout",
     "output_type": "stream",
     "text": [
      "2025-06-01\n"
     ]
    }
   ],
   "source": [
    "\n",
    "\n",
    "import datetime\n",
    "\n",
    "today = datetime.date.today()\n",
    "\n",
    "print(today)\n"
   ]
  },
  {
   "cell_type": "code",
   "execution_count": 18,
   "id": "14d703ca",
   "metadata": {},
   "outputs": [],
   "source": [
    "\n",
    "\n",
    "import csv \n",
    "\n",
    "header = ['Title', 'Price', 'Date']\n",
    "data = [title, price, today]\n",
    "\n",
    "\n",
    "with open('WebScraperDataset.csv', 'w', newline='', encoding='UTF8') as f:\n",
    "    writer = csv.writer(f)\n",
    "    writer.writerow(header)\n",
    "    writer.writerow(data)\n",
    "    \n"
   ]
  },
  {
   "cell_type": "code",
   "execution_count": 19,
   "id": "d07eeb86",
   "metadata": {},
   "outputs": [
    {
     "name": "stdout",
     "output_type": "stream",
     "text": [
      "                  Title   Price        Date\n",
      "0  A Light in the Attic  £51.77  2025-06-01\n"
     ]
    }
   ],
   "source": [
    "import pandas as pd\n",
    "\n",
    "df = pd.read_csv('WebScraperDataset.csv')\n",
    "\n",
    "print(df)\n",
    "\n"
   ]
  },
  {
   "cell_type": "code",
   "execution_count": 20,
   "id": "6b05c1eb",
   "metadata": {},
   "outputs": [],
   "source": [
    "\n",
    "with open('WebScraperDataset.csv', 'a+', newline='', encoding='UTF8') as f:\n",
    "    writer = csv.writer(f)\n",
    "    writer.writerow(data)"
   ]
  },
  {
   "cell_type": "code",
   "execution_count": 21,
   "id": "8e95b9e0",
   "metadata": {},
   "outputs": [],
   "source": [
    "\n",
    "\n",
    "\n",
    "def check_price():\n",
    "    URL = 'https://books.toscrape.com/catalogue/a-light-in-the-attic_1000/index.html'\n",
    "\n",
    "    headers = {\n",
    "        \"User-Agent\": \"Mozilla/5.0 (Windows NT 10.0; Win64; x64) AppleWebKit/537.36 (KHTML, like Gecko) Chrome/121.0.0.0 Safari/537.36\",\n",
    "        \"Accept-Language\": \"en-US,en;q=0.9\"\n",
    "    }\n",
    "\n",
    "    page = requests.get(URL, headers=headers)\n",
    "\n",
    "    soup = BeautifulSoup(page.content, \"html.parser\")\n",
    "\n",
    "    title = soup.find(\"div\", class_=\"product_main\").h1.get_text()\n",
    "\n",
    "    price = soup.find(\"p\", class_=\"price_color\").get_text()\n",
    "\n",
    "    print(\"📚 Title:\", title)\n",
    "    print(\"💰 Price:\", price)\n",
    "    \n",
    "    today = datetime.date.today()\n",
    "    \n",
    "\n",
    "    header = ['Title', 'Price', 'Date']\n",
    "    data = [title, price, today]\n",
    "\n",
    "    with open('WebScraperDataset.csv', 'a+', newline='', encoding='UTF8') as f:\n",
    "        writer = csv.writer(f)\n",
    "        writer.writerow(data)\n",
    " \n",
    "    "
   ]
  },
  {
   "cell_type": "code",
   "execution_count": 22,
   "id": "c72f2c4e",
   "metadata": {},
   "outputs": [
    {
     "name": "stdout",
     "output_type": "stream",
     "text": [
      "📚 Title: A Light in the Attic\n",
      "💰 Price: £51.77\n",
      "📚 Title: A Light in the Attic\n",
      "💰 Price: £51.77\n",
      "📚 Title: A Light in the Attic\n",
      "💰 Price: £51.77\n",
      "📚 Title: A Light in the Attic\n",
      "💰 Price: £51.77\n",
      "📚 Title: A Light in the Attic\n",
      "💰 Price: £51.77\n"
     ]
    }
   ],
   "source": [
    "i = 5\n",
    "\n",
    "#use while(true) to run the script indefinitely\n",
    "while(i):\n",
    "    check_price()\n",
    "    # time.sleep(86400)  # Uncomment this line to run the script every 24 hours\n",
    "    time.sleep(1)  # For testing purposes, run every 10 seconds\n",
    "    i -= 1"
   ]
  },
  {
   "cell_type": "code",
   "execution_count": 23,
   "id": "00af7126",
   "metadata": {},
   "outputs": [
    {
     "name": "stdout",
     "output_type": "stream",
     "text": [
      "                  Title   Price        Date\n",
      "0  A Light in the Attic  £51.77  2025-06-01\n",
      "1  A Light in the Attic  £51.77  2025-06-01\n",
      "2  A Light in the Attic  £51.77  2025-06-01\n",
      "3  A Light in the Attic  £51.77  2025-06-01\n",
      "4  A Light in the Attic  £51.77  2025-06-01\n",
      "5  A Light in the Attic  £51.77  2025-06-01\n",
      "6  A Light in the Attic  £51.77  2025-06-01\n"
     ]
    }
   ],
   "source": [
    "import pandas as pd\n",
    "\n",
    "df = pd.read_csv('WebScraperDataset.csv')\n",
    "\n",
    "print(df)"
   ]
  },
  {
   "cell_type": "code",
   "execution_count": null,
   "id": "d14fce5f",
   "metadata": {},
   "outputs": [],
   "source": [
    "import smtplib\n",
    "\n",
    "def send_mail():\n",
    "    server = smtplib.SMTP_SSL('smtp.gmail.com', 465)\n",
    "    server.login('XXXX@gmail.com', 'XXXXXXXXX')   #  Replace with your actual password or use an app password\n",
    "                                                                    # Note: It's recommended to use an app password for security reasons.\n",
    "\n",
    "    subject = \"The book you want is below $15! Now is your chance to buy!\"\n",
    "    body = \"Kunj, this is the moment we've been waiting for! Link: https://books.toscrape.com/catalogue/a-light-in-the-attic_1000/index.html\"\n",
    "\n",
    "    msg = f\"Subject: {subject}\\n\\n{body}\"\n",
    "\n",
    "    server.sendmail(\n",
    "        from_addr='kXXX@gmail.com', # Replace with your email address\n",
    "        to_addrs='XCCC@gamil.com',  # Replace with the recipient's email address\n",
    "        msg=msg\n",
    "    )\n",
    "\n",
    "    server.quit()\n",
    "    print(\"✅ Email sent successfully!\")\n",
    "\n",
    "# send_mail()\n"
   ]
  },
  {
   "cell_type": "code",
   "execution_count": 25,
   "id": "a595327b",
   "metadata": {},
   "outputs": [
    {
     "name": "stdout",
     "output_type": "stream",
     "text": [
      "Latest Price: £51.77\n"
     ]
    }
   ],
   "source": [
    "latest_price = df['Price'].tail(1).values[0]\n",
    "print(\"Latest Price:\", latest_price)\n",
    "\n",
    "if latest_price < \"£15.00\":\n",
    "    send_mail()\n",
    "    print(\"Email has been sent!\")"
   ]
  }
 ],
 "metadata": {
  "kernelspec": {
   "display_name": "Python 3",
   "language": "python",
   "name": "python3"
  },
  "language_info": {
   "codemirror_mode": {
    "name": "ipython",
    "version": 3
   },
   "file_extension": ".py",
   "mimetype": "text/x-python",
   "name": "python",
   "nbconvert_exporter": "python",
   "pygments_lexer": "ipython3",
   "version": "3.9.13"
  }
 },
 "nbformat": 4,
 "nbformat_minor": 5
}
